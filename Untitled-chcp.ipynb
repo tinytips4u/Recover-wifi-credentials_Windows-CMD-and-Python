{
 "cells": [
  {
   "cell_type": "code",
   "execution_count": null,
   "id": "1a00975f",
   "metadata": {},
   "outputs": [],
   "source": [
    "import subprocess #subprocess is standard library in python used to run new codes and applications by creating new processes"
   ]
  },
  {
   "cell_type": "code",
   "execution_count": null,
   "id": "636fee04",
   "metadata": {},
   "outputs": [],
   "source": [
    "chcp = subprocess.getoutput('chcp').split(':')[1][1:]"
   ]
  },
  {
   "cell_type": "code",
   "execution_count": null,
   "id": "9ac1c098",
   "metadata": {},
   "outputs": [],
   "source": [
    "chcp"
   ]
  },
  {
   "cell_type": "code",
   "execution_count": null,
   "id": "a1b487e0",
   "metadata": {},
   "outputs": [],
   "source": [
    "subprocess.getoutput(['chcp','437'])"
   ]
  },
  {
   "cell_type": "code",
   "execution_count": null,
   "id": "1c856c85",
   "metadata": {},
   "outputs": [],
   "source": [
    "subprocess.getoutput(['chcp','65001'])"
   ]
  },
  {
   "cell_type": "code",
   "execution_count": null,
   "id": "4a2b9e2b",
   "metadata": {},
   "outputs": [],
   "source": [
    "subprocess.getoutput(['chcp']).split(':')[1][1:]"
   ]
  },
  {
   "cell_type": "code",
   "execution_count": null,
   "id": "0d38e26e",
   "metadata": {},
   "outputs": [],
   "source": [
    "# This will run the command: \"netsh wlan show profiles, and return the output in bytestring\n",
    "subprocess.check_output(['netsh','wlan','show','profiles'])"
   ]
  },
  {
   "cell_type": "code",
   "execution_count": null,
   "id": "ca367f66",
   "metadata": {
    "scrolled": true
   },
   "outputs": [],
   "source": [
    "# We have non english alphabets in SSID we will use the code page 437 for decoding, since utf-8 is giving error. Code Page 437\n",
    "# is obtaied from properties of command prompt.\n",
    "subprocess.check_output(['netsh','wlan','show','profiles']).decode('cp437')"
   ]
  },
  {
   "cell_type": "code",
   "execution_count": null,
   "id": "391d4e22",
   "metadata": {},
   "outputs": [],
   "source": [
    "# In the above outut we can see that \\r\\n (crriage return and new line) is present in the field. We will split the data at \\r\\n\n",
    "profile = subprocess.check_output(['netsh','wlan','show','profiles']).decode('cp437').split('\\r\\n')"
   ]
  },
  {
   "cell_type": "code",
   "execution_count": null,
   "id": "62f238eb",
   "metadata": {},
   "outputs": [],
   "source": [
    "print(profile)"
   ]
  },
  {
   "cell_type": "code",
   "execution_count": null,
   "id": "380119fa",
   "metadata": {},
   "outputs": [],
   "source": [
    "# We have split the output on \\r\\n. But we only want the strings which has All User Profile in it. Because only they have SSID\n",
    "# names in them. So we will write a list comprehension with a condition to return only those string that contains ALL User Profile\n",
    "all_user_profile = [line for line in profile if 'All User Profile' in line]"
   ]
  },
  {
   "cell_type": "code",
   "execution_count": null,
   "id": "bddde9b2",
   "metadata": {},
   "outputs": [],
   "source": [
    "print(all_user_profile) # Contains only those lines that have All User Profile in it"
   ]
  },
  {
   "cell_type": "code",
   "execution_count": null,
   "id": "259060a5",
   "metadata": {},
   "outputs": [],
   "source": [
    "3# But what we want is only SSID. So we will split each line further at : (colon)\n",
    "[line.split(':') for line in all_user_profile] # Each line is split in to 2 halves. One contains All User Profile string and other contains the SSID"
   ]
  },
  {
   "cell_type": "code",
   "execution_count": null,
   "id": "1101e8de",
   "metadata": {},
   "outputs": [],
   "source": [
    "# From the above 2 halves, 0 the element is ALl user Profile and 1st element is SSID. We want SSID so we will index it [1] \n",
    "[id.split(':')[1] for id in all_user_profile] # we received SSID now, and the rest is removed"
   ]
  },
  {
   "cell_type": "code",
   "execution_count": null,
   "id": "b3dd359f",
   "metadata": {
    "scrolled": true
   },
   "outputs": [],
   "source": [
    "# But we can see that before every SSID name there is a space infront. We dont want the space. Since space is the 0th alphabet\n",
    "# we will index it as [1:] which means start from the 1st alphabet/element and go till end\n",
    "[id.split(':')[1][1:] for id in all_user_profile] # So we will receive the SSID name without space in the front"
   ]
  },
  {
   "cell_type": "code",
   "execution_count": null,
   "id": "b31bcfa9",
   "metadata": {},
   "outputs": [],
   "source": [
    "# But we notice that the SSIDs are repeated. This is because the output of netsh will give multiple user profile name if your\n",
    "# system has multiple wifi modules in it. I have 2 so its repeated once. We want only the unique values so we either cast the type\n",
    "# from list to set or just write the list comprehension in {} instead of []\n",
    "{id.split(':')[1][1:] for id in all_user_profile}"
   ]
  },
  {
   "cell_type": "code",
   "execution_count": null,
   "id": "f14baa09",
   "metadata": {},
   "outputs": [],
   "source": [
    "# We will store the ssid names in the variable SSID\n",
    "SSID = {id.split(':')[1][1:] for id in all_user_profile}"
   ]
  },
  {
   "cell_type": "code",
   "execution_count": null,
   "id": "2c962699",
   "metadata": {},
   "outputs": [],
   "source": [
    "print(SSID) # we now have the SSIDs"
   ]
  },
  {
   "cell_type": "code",
   "execution_count": null,
   "id": "5f7bbce0",
   "metadata": {},
   "outputs": [],
   "source": []
  },
  {
   "cell_type": "code",
   "execution_count": null,
   "id": "163d838d",
   "metadata": {
    "scrolled": true
   },
   "outputs": [],
   "source": [
    "subprocess.check_output(['netsh','wlan','show','profile','sα????π?','key=clear']).decode('cp437').split('\\r\\n')"
   ]
  },
  {
   "cell_type": "code",
   "execution_count": null,
   "id": "e87889d6",
   "metadata": {},
   "outputs": [],
   "source": [
    "for ssid in SSID:\n",
    "    ssid_data = subprocess.check_output(['netsh','wlan','show','profile',ssid,'key=clear']).decode('cp437').split('\\r\\n')\n",
    "    password = [line.split(':')[1][1:] for line in ssid_data if 'Key Content' in line]\n",
    "    try:\n",
    "        print(f\"SSID: {ssid}, Password: {password[0]}\")\n",
    "    except IndexError:\n",
    "        print(f\"SSID: {ssid}, Password: Password was not saved\")"
   ]
  },
  {
   "cell_type": "code",
   "execution_count": null,
   "id": "41ee3f1e",
   "metadata": {},
   "outputs": [],
   "source": [
    "for ssid in SSID:\n",
    "    ssid_data = subprocess.check_output(['netsh','wlan','show','profile',ssid,'key=clear']).decode('utf-8').split('\\r\\n')\n",
    "    password = [line.split(':')[1][1:] for line in ssid_data if 'Key Content' in line]\n",
    "    try:\n",
    "        print(f\"SSID: {ssid}, Password: {password[0]}\")\n",
    "    except IndexError:\n",
    "        print(f\"SSID: {ssid}, Password: Password was not saved\")"
   ]
  },
  {
   "cell_type": "code",
   "execution_count": null,
   "id": "c898391d",
   "metadata": {},
   "outputs": [],
   "source": []
  },
  {
   "cell_type": "code",
   "execution_count": null,
   "id": "f262faa4",
   "metadata": {},
   "outputs": [],
   "source": []
  },
  {
   "cell_type": "code",
   "execution_count": null,
   "id": "f415579c",
   "metadata": {},
   "outputs": [],
   "source": []
  },
  {
   "cell_type": "code",
   "execution_count": null,
   "id": "c766fe3f",
   "metadata": {},
   "outputs": [],
   "source": []
  },
  {
   "cell_type": "code",
   "execution_count": null,
   "id": "e4585cb3",
   "metadata": {},
   "outputs": [],
   "source": []
  },
  {
   "cell_type": "code",
   "execution_count": null,
   "id": "5d6ce704",
   "metadata": {},
   "outputs": [],
   "source": []
  },
  {
   "cell_type": "code",
   "execution_count": null,
   "id": "edf36251",
   "metadata": {},
   "outputs": [],
   "source": []
  }
 ],
 "metadata": {
  "kernelspec": {
   "display_name": "Python 3 (ipykernel)",
   "language": "python",
   "name": "python3"
  },
  "language_info": {
   "codemirror_mode": {
    "name": "ipython",
    "version": 3
   },
   "file_extension": ".py",
   "mimetype": "text/x-python",
   "name": "python",
   "nbconvert_exporter": "python",
   "pygments_lexer": "ipython3",
   "version": "3.9.7"
  }
 },
 "nbformat": 4,
 "nbformat_minor": 5
}
