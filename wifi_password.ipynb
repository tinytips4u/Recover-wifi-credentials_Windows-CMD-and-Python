{
 "cells": [
  {
   "cell_type": "code",
   "execution_count": null,
   "id": "7c7c15ee",
   "metadata": {},
   "outputs": [],
   "source": [
    "import subprocess"
   ]
  },
  {
   "cell_type": "code",
   "execution_count": null,
   "id": "0e441454",
   "metadata": {},
   "outputs": [],
   "source": [
    "subprocess.getoutput('chcp')"
   ]
  },
  {
   "cell_type": "code",
   "execution_count": null,
   "id": "ddac50e8",
   "metadata": {},
   "outputs": [],
   "source": [
    "subprocess.getoutput(['chcp','65001'])"
   ]
  },
  {
   "cell_type": "code",
   "execution_count": null,
   "id": "35012f87",
   "metadata": {},
   "outputs": [],
   "source": [
    "subprocess.getoutput('chcp')"
   ]
  },
  {
   "cell_type": "code",
   "execution_count": null,
   "id": "36f0d27a",
   "metadata": {},
   "outputs": [],
   "source": [
    "subprocess.getoutput('chcp').split(':')[1][1:]"
   ]
  },
  {
   "cell_type": "code",
   "execution_count": null,
   "id": "0a579676",
   "metadata": {
    "scrolled": false
   },
   "outputs": [],
   "source": [
    "subprocess.check_output(['netsh','wlan','show','profiles']).decode('cp437')"
   ]
  },
  {
   "cell_type": "code",
   "execution_count": null,
   "id": "ba9badd4",
   "metadata": {},
   "outputs": [],
   "source": [
    "profiles = subprocess.check_output(['netsh','wlan','show','profiles']).decode('cp437').split('\\r\\n')"
   ]
  },
  {
   "cell_type": "code",
   "execution_count": null,
   "id": "81ddabcb",
   "metadata": {},
   "outputs": [],
   "source": [
    "print(profiles)"
   ]
  },
  {
   "cell_type": "code",
   "execution_count": null,
   "id": "f03a012e",
   "metadata": {},
   "outputs": [],
   "source": [
    "all_user_profile = [line for line in profiles if \"All User Profile\" in line]"
   ]
  },
  {
   "cell_type": "code",
   "execution_count": null,
   "id": "239d8009",
   "metadata": {},
   "outputs": [],
   "source": [
    "print(all_user_profile)"
   ]
  },
  {
   "cell_type": "code",
   "execution_count": null,
   "id": "4c3bdf77",
   "metadata": {},
   "outputs": [],
   "source": [
    "[line.split(':')for line in all_user_profile]"
   ]
  },
  {
   "cell_type": "code",
   "execution_count": null,
   "id": "697e42e5",
   "metadata": {},
   "outputs": [],
   "source": [
    "[line.split(':')[1]for line in all_user_profile]"
   ]
  },
  {
   "cell_type": "code",
   "execution_count": null,
   "id": "ba653f28",
   "metadata": {},
   "outputs": [],
   "source": [
    "[line.split(':')[1][1:]for line in all_user_profile]"
   ]
  },
  {
   "cell_type": "code",
   "execution_count": null,
   "id": "5b88c9f6",
   "metadata": {},
   "outputs": [],
   "source": [
    "SSID = {line.split(':')[1][1:]for line in all_user_profile}"
   ]
  },
  {
   "cell_type": "code",
   "execution_count": null,
   "id": "02207e64",
   "metadata": {},
   "outputs": [],
   "source": [
    "print(SSID)"
   ]
  },
  {
   "cell_type": "code",
   "execution_count": null,
   "id": "d2dc2643",
   "metadata": {},
   "outputs": [],
   "source": [
    "for ssid in SSID:\n",
    "    ssid_data = subprocess.check_output(['netsh','wlan','show','profile',ssid,'key=clear']).decode('cp437').split('\\r\\n')\n",
    "    password = [line.split(':')[1][1:] for line in ssid_data if 'Key Content' in line]\n",
    "    try:\n",
    "        print(f\"SSID: {ssid}, Password: {password[0]}\")\n",
    "    except IndexError:\n",
    "        print(f\"SSID: {ssid}, Password: No Saved Password\")"
   ]
  },
  {
   "cell_type": "code",
   "execution_count": null,
   "id": "34819edd",
   "metadata": {},
   "outputs": [],
   "source": []
  },
  {
   "cell_type": "code",
   "execution_count": null,
   "id": "7eed3c77",
   "metadata": {},
   "outputs": [],
   "source": []
  },
  {
   "cell_type": "code",
   "execution_count": null,
   "id": "dad5b4ff",
   "metadata": {},
   "outputs": [],
   "source": [
    "password = [line.split(':')[1][1:] for line in ssid_data if 'Key Content' in line]"
   ]
  },
  {
   "cell_type": "code",
   "execution_count": null,
   "id": "69ec7f60",
   "metadata": {},
   "outputs": [],
   "source": []
  },
  {
   "cell_type": "code",
   "execution_count": null,
   "id": "0ab1dce1",
   "metadata": {},
   "outputs": [],
   "source": []
  },
  {
   "cell_type": "code",
   "execution_count": null,
   "id": "e4958c8d",
   "metadata": {},
   "outputs": [],
   "source": [
    "subprocess.getoutput(['chcp','437'])"
   ]
  },
  {
   "cell_type": "code",
   "execution_count": null,
   "id": "a3db1df3",
   "metadata": {},
   "outputs": [],
   "source": []
  }
 ],
 "metadata": {
  "kernelspec": {
   "display_name": "Python 3 (ipykernel)",
   "language": "python",
   "name": "python3"
  },
  "language_info": {
   "codemirror_mode": {
    "name": "ipython",
    "version": 3
   },
   "file_extension": ".py",
   "mimetype": "text/x-python",
   "name": "python",
   "nbconvert_exporter": "python",
   "pygments_lexer": "ipython3",
   "version": "3.9.7"
  }
 },
 "nbformat": 4,
 "nbformat_minor": 5
}
